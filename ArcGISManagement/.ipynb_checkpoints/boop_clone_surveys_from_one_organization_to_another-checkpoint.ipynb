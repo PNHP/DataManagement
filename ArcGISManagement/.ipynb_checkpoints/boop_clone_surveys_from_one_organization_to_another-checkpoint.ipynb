{
 "cells": [
  {
   "cell_type": "markdown",
   "metadata": {},
   "source": [
    "# Clone surveys from one organization to another\n",
    "\n"
   ]
  },
  {
   "cell_type": "markdown",
   "metadata": {},
   "source": [
    "<div class=\"alert alert-block alert-info\">This notebook uses the ArcGIS API for Python. For more information, see the <a href=\"https://developers.arcgis.com/python/\">ArcGIS API for Python documentation and guides</a>.</div>"
   ]
  },
  {
   "cell_type": "markdown",
   "metadata": {},
   "source": [
    "### Introduction\n",
    "\n",
    "A common question the Survey123 team has received from organization administrators is, \"What's the best way to clone my surveys from one organization to another?\"\n",
    "\n",
    "There are two common use cases for cloning surveys:\n",
    "1. Create a copy of a survey in another ArcGIS organization. For example, a city's transportation and water departments have different ArcGIS Online organizations and the water department would benefit from having a copy of one of the transportation department's surveys as well as its associated web map and dashboard.\n",
    "2. Clone a survey from a development organization in ArcGIS Enterprise to staging and production organizations.\n",
    "\n",
    "This sample Python notebook demonstrates how to clone surveys and associated content from one organization to another. This workflow can be used to clone surveys from ArcGIS Online to ArcGIS Online, ArcGIS Online to ArcGIS Enterprise, or ArcGIS Enterprise to ArcGIS Enterprise. The direction of cloning does not matter.\n",
    "\n",
    "This notebook demonstrates two cloning methods:\n",
    "* <a href='#related-items'>Clone related items</a>\n",
    "* <a href='#full-folder'>Clone survey folder</a>\n",
    "\n",
    "The foundation of the workflow is the <a href='https://developers.arcgis.com/python/api-reference/arcgis.gis.toc.html#arcgis.gis.ContentManager.clone_items' target=_blank>`clone_items()`</a> method in the ArcGIS API for Python. This is the infrastructure that allows us to clone surveys from a source organization to a target organization. Given the different content and item types, possible ArcGIS Enterprise and ArcGIS Online configurations, security considerations, and item dependencies, the `clone_items()` method aims to produce an exact duplicate of an item that retains all of its functionality.\n",
    "\n",
    "Please note that cloning relies on the sharing model to determine the items a user can clone. The user specified in the source organization will need admin access to the content that will be cloned, and the user specified in the target organization will need the ability to create content in that organization.\n",
    "\n",
    "For more information on the `clone_items` method, see the ArcGIS API for Python <a href=\"https://developers.arcgis.com/python/guide/cloning-content/\" target=\"_blank\">Cloning content guide</a> and <a href=\"https://developers.arcgis.com/python/api-reference/arcgis.gis.toc.html?#arcgis.gis.ContentManager.clone_items\" target=\"_blank\">API reference</a>. "
   ]
  },
  {
   "cell_type": "markdown",
   "metadata": {},
   "source": [
    "### Prepare to clone\n",
    "\n",
    "To start, we are going to need two <a href='https://developers.arcgis.com/python/guide/using-the-gis/' target=_blank>GIS</a> connections: one to our \"source\" organization, which is the organization in which the survey and content currently resides that we would like to clone; and another to a \"target\" organization, which is the organization that we would like to clone the survey and content to."
   ]
  },
  {
   "cell_type": "code",
   "execution_count": null,
   "metadata": {},
   "outputs": [
    {
     "name": "stdout",
     "output_type": "stream",
     "text": [
      "Source GIS: GIS @ https://WPCGIS.maps.arcgis.com version:2024.2 \n",
      "Target GIS: GIS @ https://gis.waterlandlife.org/portal version:10.3\n"
     ]
    }
   ],
   "source": [
    "import arcgis\n",
    "from arcgis.gis import GIS\n",
    "import os\n",
    "\n",
    "# Connect to source and target organizations\n",
    "source = GIS(\"https://wpcgis.maps.arcgis.com/\",\"mmooreWPC\",\"N1k0C@tM30w!\")\n",
    "target = GIS(\"https://gis.waterlandlife.org/portal\",\"MollyMoore\",\"N1k0C@tM30w!\")\n",
    "print(\"Source GIS:\", source,\"\\nTarget GIS:\", target)"
   ]
  },
  {
   "cell_type": "markdown",
   "metadata": {},
   "source": [
    "The first example highlights a workflow where you have a few surveys shared to a group that you would like to clone to a different organization. In order to work with your surveys a <a href='https://developers.arcgis.com/python/api-reference/arcgis.apps.survey123.html#arcgis.apps.survey123.SurveyManager' target=_blank>Survey Manager</a> is defined. A survey in the Survey Manager is a single instance of a survey project that contains the item information and properties and provides access to the underlying survey dataset. In this example, four surveys are shared to a group. Using the group ID, a connection is made to the group and a list is created containing all form items in the group."
   ]
  },
  {
   "cell_type": "code",
   "execution_count": null,
   "metadata": {
    "scrolled": false
   },
   "outputs": [
    {
     "data": {
      "text/html": [
       "<div class=\"item_container\" style=\"height: auto; overflow: hidden; border: 1px solid #cfcfcf; border-radius: 2px; background: #f6fafa; line-height: 1.21429em; padding: 10px;\">\n",
       "                    <div class=\"item_left\" style=\"width: 210px; float: left;\">\n",
       "                       <a href='https://WPCGIS.maps.arcgis.com/home/item.html?id=9cb67bd1a32a4b229797c68408779595' target='_blank'>\n",
       "                        <img src='data:image/png;base64,iVBORw0KGgoAAAANSUhEUgAAAMgAAACFCAYAAAAenrcsAAAE3UlEQVR4nO3dP4gcVRwH8LeXvctfUVTUFAoKChYKETTEYCGkEsHOyiJWYm1hCu0sYqGWks7CNFYKYmPASiUIplBQI0QwhUZQojExdzl35c3u3q3Z3d/e7t6fmZ3PB5abvM2F3O595ztv5s1do91utxMw1MKwQaBDQCAgIBAQEAgICAQEBAICAgEBgYCAQEBAICAgEBAQCAgIBAQEAgICAQGBgIBAQEAgICAQEBAICAgEBAQCzdFP1cszH12p+0tQ+OS5WwbG6kyDQECD3KSue1ANOpwGgYCAQEBAICAgEBAQCAgIBJzm3UQ7ear00Tt3pZNH9w2MMxsNAgENsoks05g/GgQCAgIBAYGAOUiX+QPDaBAI1LJBJrleoVnqTYNAoJYNohXYKA0CAQHpyvOSzV5LdfVGe2CMahGQLXLhz1Y6/unVdObnG3P59dWFgGyBHI5XP79WNMipb5c1SYUJyCbrD8f+xUZ68+i+4iPVJCBTuHStNfSThoXjgVu9xFXm3ZtQnlO8OGRuIRzzyVqsCX14YaX4hLfPXS8+HrtvceJw7MSdh+44nM7od5Gh+r/5c0hO/7CiOeaYBplQLwQ5FLk5Tn+/XPwDk4TDlfzqsKubws1h0Bzzyzs6pV4ojhxsCsccc4g1gxyS15/YW9n/P+PZ7UFAQCDgEKvLmSWG0SAQcE/6GJql3jQIBBrtdtvNCjCCBoGAs1hdvXnJdsw5qvwrl+s2J9MgENAgE5h0zz9ub3vq6eosU3nps38GxupAg0BAg0xhXDNUeY7B/2kQCAgIBBxilUiZJsJVOoGwlTQIBDRICe3kxTgnGP5Pg0BAQCDgEGsKDkPqQ4NAQIN0bWRivF2TZw1VHhoEAu5JH2M7T7m6OFc+GgQCfk86BDQIBJzF6trOe9JHmXax4r5mI73z1J6BcWanQeZMDlkUtFmfrxsNUkLTtNjFv1YHxpidBqmR36+v/4zA/m1GE5CauPh3K73x1fLaF5u38xgxAamJj39aTddW2+nEY83ikbfzGDFzkJrIgcgO37W+T+yNMZqAlNA0ixXHLVO5Y0+j+Hjy3OrAGKMJSE08/+BiMTE/e6kz73jotoVijJiAlMhWLlbMFxNfObR77RpH3mY8k3QICMgc+fLXf9e+mP5tpucQ6yZbeTffVq7zyoF477uVtT93tpfSkXt2DfxdNk5ASmSaNVB5LpEn3F/80jk79f6xpeLjC2dWijEBmY2AdNX9HpF8TeTdb9Yb6K1zy+nlR5aKyX2dCUgJTRLWy9db6cpKKz15sJnOX14pmqMnj23UBz/eSOcvt9LhuzvT0nw6OI8df3ipBq/4aCbpFXdgqfMW5kOp/m/mvD3J4VVv8eKJQ83ikSxoLAhIxTUXUrp9bycI/YGYdO7RO5Q6+1urePSP1fr1HRihcvYvNtIfM97j9Oz9zeIQ6+TXncl+DkceqzsNMud2NxvFY5T8XHOhke49sJBee3z96nrezmN1ZxdRQpu5WHF5zIrd/uf7Fy9ayNhhFwGBRrvdjncxbLpeQ4za65dR7yJm3a4XaRAICAgETNJ3kJ8/VX4aBAIm6RDQIBAQEAgICAQEBAICAgEBgYCAQEBAICAgEBAQCAgIBAQEAgICAQGBgIBAQEAgICAQEBAICAgEBAQCAgKjpJT+Ay1LYu2zoK/nAAAAAElFTkSuQmCC' width='200' height='133' class=\"itemThumbnail\">\n",
       "                       </a>\n",
       "                    </div>\n",
       "\n",
       "                    <div class=\"item_right\"     style=\"float: none; width: auto; overflow: hidden;\">\n",
       "                        <a href='https://WPCGIS.maps.arcgis.com/home/item.html?id=9cb67bd1a32a4b229797c68408779595' target='_blank'><b>ListMaster Entry</b>\n",
       "                        </a>\n",
       "                        <br/>Survey123 form that facilitates the efficient entry of FIND species lists. <img src='https://WPCGIS.maps.arcgis.com/home/js/jsapi/esri/css/images/item_type_icons/layers16.png' style=\"vertical-align:middle;\" width=16 height=16>Form by mmooreWPC\n",
       "                        <br/>Last Modified: June 10, 2024\n",
       "                        <br/>0 comments, 69 views\n",
       "                    </div>\n",
       "                </div>\n",
       "                "
      ],
      "text/plain": [
       "<Item title:\"ListMaster Entry\" type:Form owner:mmooreWPC>"
      ]
     },
     "execution_count": 12,
     "metadata": {},
     "output_type": "execute_result"
    }
   ],
   "source": [
    "# Get surveys by group ID and then download each format supported\n",
    "survey_manager = arcgis.apps.survey123.SurveyManager(source)\n",
    "sourceForms = source.content.get(\"9cb67bd1a32a4b229797c68408779595\")\n",
    "sourceForms"
   ]
  },
  {
   "cell_type": "markdown",
   "metadata": {},
   "source": [
    "Now that we have your forms as a list, you are ready to clone the content from the source organization to the target organization. As previously noted, a use case for using the `clone_items()` method is to clone surveys between development, staging, and production organizations. This first example clones the surveys from an existing group (as defined above) located in the source organization to the target organization and shares the cloned surveys to a group with the same name in the target organization."
   ]
  },
  {
   "cell_type": "markdown",
   "metadata": {},
   "source": [
    "<a id='full-folder'></a>\n",
    "### Clone survey folder\n",
    "\n",
    "The code below demonstrates connecting to one specific survey in your organization. Using the properties of the survey, the folder ID where the survey resides is assigned to a variable. Next, all the folders in the source organization for the source username are listed. Using list comprehension, the folder in the `full_folder` variable is matched with the folder ID obtained from the survey properties.\n",
    "\n",
    "Once the correct folder has been identified the contents of the folder are listed."
   ]
  },
  {
   "cell_type": "code",
   "execution_count": 5,
   "metadata": {},
   "outputs": [
    {
     "name": "stdout",
     "output_type": "stream",
     "text": [
      "Folder items:\n",
      "<Item title:\"Incident Report\" type:Form owner:NinjaGreen>\n",
      "<Item title:\"Incident Report\" type:Feature Layer Collection owner:NinjaGreen>\n",
      "<Item title:\"Incident Report_fieldworker\" type:Feature Layer Collection owner:NinjaGreen>\n",
      "<Item title:\"Incident Report Webmap\" type:Web Map owner:NinjaGreen>\n",
      "<Item title:\"Incident Report Google Vision\" type:Web Map owner:NinjaGreen>\n",
      "<Item title:\"Incident Report_sampleTemplate\" type:Microsoft Word owner:NinjaGreen>\n",
      "<Item title:\"Incident Report Dashboard\" type:Dashboard owner:NinjaGreen>\n",
      "<Item title:\"Incident Report_stakeholder\" type:Feature Layer Collection owner:NinjaGreen>\n",
      "<Item title:\"Incident Report_sampleTemplate 2.docx\" type:Microsoft Word owner:NinjaGreen>\n"
     ]
    }
   ],
   "source": [
    "source_item_with_data = survey_manager.get(\"65b0ce4cfa2145eb8ce90122e54029e6\")\n",
    "survey_folder = source_item_with_data.properties['ownerFolder']\n",
    "\n",
    "usr = arcgis.gis.User(source, source.users.me.username)\n",
    "\n",
    "full_folder = usr.folders\n",
    "\n",
    "# Identify the folder associated with the survey\n",
    "fldr = next((f for f in full_folder if f['id'] == survey_folder), 0)\n",
    "\n",
    "#List all the items within that folder to be cloned later on\n",
    "fldr_items = usr.items(folder=fldr)\n",
    "print(\"Folder items:\", *fldr_items, sep=\"\\n\")"
   ]
  },
  {
   "cell_type": "markdown",
   "metadata": {},
   "source": [
    "Now that all items to be cloned  are in a list, a new folder is created in the target organization to store the content. After the folder is created the content is cloned to the target environment. Since the `copy_data` parameter is not defined the default value for the parameter is \"True\", meaning all the underlying data will also be cloned. This means the resulting content in the target organization will be an identical clone of the original data. If you do not wish to retain the source data, setting the `copy_data` parameter to \"False\" will only clone the data schema and architecture to the target organization. The survey, web maps, web apps, dashboards, and other items will be configured as per their original items; the only difference is the feature layer will be empty."
   ]
  },
  {
   "cell_type": "code",
   "execution_count": 6,
   "metadata": {},
   "outputs": [
    {
     "name": "stdout",
     "output_type": "stream",
     "text": [
      "<Item title:\"Incident Report\" type:Feature Layer Collection owner:survey123_publisher>\n",
      "<Item title:\"Incident Report_sampleTemplate\" type:Microsoft Word owner:survey123_publisher>\n",
      "<Item title:\"Incident Report_sampleTemplate 2.docx\" type:Microsoft Word owner:survey123_publisher>\n",
      "<Item title:\"Incident Report_fieldworker\" type:Feature Layer Collection owner:survey123_publisher>\n",
      "<Item title:\"Incident Report Google Vision\" type:Web Map owner:survey123_publisher>\n",
      "<Item title:\"Incident Report_stakeholder\" type:Feature Layer Collection owner:survey123_publisher>\n",
      "<Item title:\"Incident Report\" type:Form owner:survey123_publisher>\n",
      "<Item title:\"Incident Report Webmap\" type:Web Map owner:survey123_publisher>\n",
      "<Item title:\"Incident Report Dashboard\" type:Dashboard owner:survey123_publisher>\n",
      "Result feature count:  111\n"
     ]
    }
   ],
   "source": [
    "# Create a new folder with the same name as the source folder to clone the contents to\n",
    "target.content.create_folder(folder=fldr['title']+\"_Python\")\n",
    "\n",
    "# Clone items to the new folder\n",
    "cloned_items = target.content.clone_items(items=fldr_items, folder=fldr['title']+\"_Python\")\n",
    "print(*cloned_items, sep=\"\\n\")\n",
    "print(\"Result feature count: \", cloned_items[0].layers[0].query(where='1=1', return_count_only=True))\n",
    "\n",
    "# Search for the cloned survey and update the form item to ensure all resources are rebuilt\n",
    "search_clone_survey = target.content.search(f\"title: {source_item_with_data.properties['title']} AND owner: {target.users.me.username} Form\")\n",
    "cloned_survey = search_clone_survey[0]\n",
    "download_survey = cloned_survey.download(file_name=cloned_survey.id+'.zip')\n",
    "cloned_survey.update({},download_survey)\n",
    "os.remove(download_survey)"
   ]
  },
  {
   "cell_type": "markdown",
   "metadata": {},
   "source": [
    "This notebook covered two use cases for the `clone_items()` method and is intended to be used as a guide; you can take what's here and incorporate it into your own workflows.\n",
    "\n",
    "What workflows or use cases do you have that we missed? Please let us know your use cases and workflows and we can work on incorporating them into the notebook.\n",
    "\n",
    "Notes on limitations:\n",
    "- Clone fails with non-ASCII characters in service name.\n",
    "- Cloning is limited to 1000 records.\n",
    "- BUG-000136846 - The clone_items() method fails when attempting to clone a public hosted feature layer view hosted by another organization with the error message, \"User does not have permissions to access this service.\"\n",
    "- BUG-000141004 - ArcGIS API for Python clone_items() method isn’t re-creating the item info URL’s for surveys published from the web designer.\n",
    "     - The workaround is to download the survey from the target environment and immediatly update it using the file downloaded. "
   ]
  },
  {
   "cell_type": "code",
   "execution_count": null,
   "metadata": {},
   "outputs": [],
   "source": []
  }
 ],
 "metadata": {
  "esriNotebookRuntime": {
   "notebookRuntimeName": "ArcGIS Notebook Python 3 Standard",
   "notebookRuntimeVersion": "4.0"
  },
  "kernelspec": {
   "display_name": "ArcGISPro",
   "language": "Python",
   "name": "python3"
  },
  "language_info": {
   "file_extension": ".py",
   "name": "python",
   "version": "3"
  }
 },
 "nbformat": 4,
 "nbformat_minor": 4
}
